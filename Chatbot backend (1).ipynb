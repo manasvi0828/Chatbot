{
 "cells": [
  {
   "cell_type": "code",
   "execution_count": 2,
   "id": "c8e81cb2-465d-4e44-85b0-f78d6fb8046e",
   "metadata": {},
   "outputs": [
    {
     "name": "stdout",
     "output_type": "stream",
     "text": [
      " * Serving Flask app '__main__'\n",
      " * Debug mode: on\n"
     ]
    },
    {
     "name": "stderr",
     "output_type": "stream",
     "text": [
      "WARNING: This is a development server. Do not use it in a production deployment. Use a production WSGI server instead.\n",
      " * Running on http://127.0.0.1:5000\n",
      "Press CTRL+C to quit\n",
      " * Restarting with watchdog (windowsapi)\n"
     ]
    },
    {
     "ename": "SystemExit",
     "evalue": "1",
     "output_type": "error",
     "traceback": [
      "An exception has occurred, use %tb to see the full traceback.\n",
      "\u001b[1;31mSystemExit\u001b[0m\u001b[1;31m:\u001b[0m 1\n"
     ]
    }
   ],
   "source": [
    "from flask import Flask, request, jsonify\n",
    "\n",
    "app = Flask(__name__)\n",
    "\n",
    "predefined_responses = {\n",
    "    \"what is the price of the 1947 independence stamp?\": \"The price of the 1947 Independence Stamp varies depending on its condition and rarity. It usually ranges between INR 5000 to INR 50,000.\",\n",
    "    \"how can i sell my stamps?\": \"You can list your stamps on our platform by creating an account and submitting details about your collection.\",\n",
    "    \"where can i find rare stamps?\": \"We have a special section for rare stamps on our website. You can browse through the 'Rare Stamps' category for more information.\",\n",
    "    \"how does the bidding process work?\": \"Our bidding process is simple. You can place a bid on any stamp listed for auction. The highest bid at the end of the auction wins the item.\",\n",
    "    \"what is the refund policy?\": \"Our refund policy allows for returns within 14 days of purchase if the item does not match the description.\",\n",
    "    \"where is the help desk for this site\": \"You can reach our help desk at the following link: <a href='/helpdesk'>Help Desk</a>.\",\n",
    "    \"please give contact information so i can connect with you\": \"For contact information, please visit: <a href='/contact'>Contact Us</a>.\",\n",
    "    \"i want to view my cart\": \"You can view your cart by clicking here: <a href='/cart'>Your Cart</a>.\"\n",
    "}\n",
    "\n",
    "@app.route('/chatbot', methods=['POST'])\n",
    "def chatbot():\n",
    "    user_message = request.json.get('message').lower()\n",
    "\n",
    "    response = predefined_responses.get(user_message, \"Sorry, I didn't understand that. Please try another question or contact support.\")\n",
    "    \n",
    "    return jsonify({\"response\": response})\n",
    "\n",
    "if __name__ == '__main__':\n",
    "    app.run(debug=True)\n"
   ]
  },
  {
   "cell_type": "code",
   "execution_count": null,
   "id": "96f026af-a311-4e2a-b1f2-c8d93798ef34",
   "metadata": {},
   "outputs": [],
   "source": []
  }
 ],
 "metadata": {
  "kernelspec": {
   "display_name": "Python 3 (ipykernel)",
   "language": "python",
   "name": "python3"
  },
  "language_info": {
   "codemirror_mode": {
    "name": "ipython",
    "version": 3
   },
   "file_extension": ".py",
   "mimetype": "text/x-python",
   "name": "python",
   "nbconvert_exporter": "python",
   "pygments_lexer": "ipython3",
   "version": "3.11.7"
  }
 },
 "nbformat": 4,
 "nbformat_minor": 5
}
